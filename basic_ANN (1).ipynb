{
  "nbformat": 4,
  "nbformat_minor": 0,
  "metadata": {
    "colab": {
      "name": "basic ANN",
      "provenance": [],
      "collapsed_sections": []
    },
    "kernelspec": {
      "name": "python3",
      "display_name": "Python 3"
    }
  },
  "cells": [
    {
      "cell_type": "code",
      "metadata": {
        "id": "_cTFqc-0NU79",
        "colab_type": "code",
        "colab": {}
      },
      "source": [
        "import pandas as pd\n",
        "from google.colab import files"
      ],
      "execution_count": 0,
      "outputs": []
    },
    {
      "cell_type": "markdown",
      "metadata": {
        "id": "Jm-mZ11-Q14Q",
        "colab_type": "text"
      },
      "source": [
        "<style>\n",
        "  b{\n",
        "    color : red;\n",
        "  }\n",
        "</style>\n",
        "<b ><p  >File sert a manipuler des fichiers (ajout depuis l'interface de colabs)</p> </b>"
      ]
    },
    {
      "cell_type": "code",
      "metadata": {
        "id": "9TKv70t9QMs0",
        "colab_type": "code",
        "outputId": "77356a95-d4b8-4e9b-ad1b-500c1b718a34",
        "colab": {
          "resources": {
            "http://localhost:8080/nbextensions/google.colab/files.js": {
              "data": "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",
              "ok": true,
              "headers": [
                [
                  "content-type",
                  "application/javascript"
                ]
              ],
              "status": 200,
              "status_text": ""
            }
          },
          "base_uri": "https://localhost:8080/",
          "height": 74
        }
      },
      "source": [
        "file = files.upload()\n",
        "data = pd.read_csv(\"breastCancer.csv\", header = None)"
      ],
      "execution_count": 0,
      "outputs": [
        {
          "output_type": "display_data",
          "data": {
            "text/html": [
              "\n",
              "     <input type=\"file\" id=\"files-9db4825f-23c3-4727-99d3-d4e11ebcb3ae\" name=\"files[]\" multiple disabled />\n",
              "     <output id=\"result-9db4825f-23c3-4727-99d3-d4e11ebcb3ae\">\n",
              "      Upload widget is only available when the cell has been executed in the\n",
              "      current browser session. Please rerun this cell to enable.\n",
              "      </output>\n",
              "      <script src=\"/nbextensions/google.colab/files.js\"></script> "
            ],
            "text/plain": [
              "<IPython.core.display.HTML object>"
            ]
          },
          "metadata": {
            "tags": []
          }
        },
        {
          "output_type": "stream",
          "text": [
            "Saving breastCancer.csv to breastCancer (7).csv\n"
          ],
          "name": "stdout"
        }
      ]
    },
    {
      "cell_type": "code",
      "metadata": {
        "id": "9_iIJXuoQnnp",
        "colab_type": "code",
        "colab": {}
      },
      "source": [
        "df = pd.DataFrame(data)\n",
        "df[6] = df[6].replace('?',0)\n",
        "df[6] = df[6].astype(int)\n"
      ],
      "execution_count": 0,
      "outputs": []
    },
    {
      "cell_type": "code",
      "metadata": {
        "id": "RhTeY_IBR1ST",
        "colab_type": "code",
        "colab": {}
      },
      "source": [
        "\n",
        "mean = int(df[6].mean())\n",
        "df[6] = df[6].replace(0,mean)\n"
      ],
      "execution_count": 0,
      "outputs": []
    },
    {
      "cell_type": "code",
      "metadata": {
        "id": "xpCrpnQWR9ld",
        "colab_type": "code",
        "colab": {}
      },
      "source": [
        "\n",
        "df[10] = df[10].replace(2,0).replace(4,1)\n",
        "df\n"
      ],
      "execution_count": 0,
      "outputs": []
    },
    {
      "cell_type": "code",
      "metadata": {
        "id": "AadEvufwSWCn",
        "colab_type": "code",
        "colab": {}
      },
      "source": [
        "from sklearn.model_selection import train_test_split\n",
        "\n",
        "X = df.iloc[:, 1:10]\n",
        "Y = df.iloc[:, 10]\n",
        "\n",
        "X_train, X_test, Y_train, Y_test = train_test_split(X, Y, test_size = 0.2, random_state = 0)\n",
        "\n"
      ],
      "execution_count": 0,
      "outputs": []
    },
    {
      "cell_type": "code",
      "metadata": {
        "id": "qSzvH69HSssC",
        "colab_type": "code",
        "colab": {}
      },
      "source": [
        "from sklearn.preprocessing import StandardScaler\n",
        "scaler = StandardScaler()\n",
        "X_train = scaler.fit_transform(X_train)\n",
        "X_test = scaler.transform(X_test)"
      ],
      "execution_count": 0,
      "outputs": []
    },
    {
      "cell_type": "code",
      "metadata": {
        "id": "YLcobtwsTRLl",
        "colab_type": "code",
        "colab": {}
      },
      "source": [
        "from keras.models import Sequential\n",
        "from keras.layers import Dense"
      ],
      "execution_count": 0,
      "outputs": []
    },
    {
      "cell_type": "code",
      "metadata": {
        "id": "c_ZZVaHXWQ1M",
        "colab_type": "code",
        "colab": {}
      },
      "source": [
        "notre_model = Sequential()"
      ],
      "execution_count": 0,
      "outputs": []
    },
    {
      "cell_type": "markdown",
      "metadata": {
        "id": "aEt5Xjz3WYK_",
        "colab_type": "text"
      },
      "source": [
        "<b>ajout de nouvelles couches de neuronnes </b>\n",
        "<li>une couche d'entrés (inputs)</li>\n",
        "<li>des couches de hidden layers</li>\n",
        "<li>une couche de sortie</li>"
      ]
    },
    {
      "cell_type": "code",
      "metadata": {
        "id": "KJC1zkb0XDiq",
        "colab_type": "code",
        "colab": {}
      },
      "source": [
        "notre_model.add(Dense(units = 9,activation = 'relu', input_dim = 9))\n",
        "notre_model.add(Dense(units = 81 , activation = 'relu'))\n",
        "notre_model.add(Dense(units = 1,activation = 'sigmoid'))"
      ],
      "execution_count": 0,
      "outputs": []
    },
    {
      "cell_type": "markdown",
      "metadata": {
        "id": "Z_wuMNlfYEaG",
        "colab_type": "text"
      },
      "source": [
        "<b>durant la phase qui suit nous allons préparer notre model à sa phase d'entrainement</b>\n",
        "<li><b>optimizer</b><p>est l'element chargé de la mise à jour des poids des entrées ici nous utiliserons adam qui est basé sur L'algorithme du gradient stochastique et nommé ici 'adam'</p></li>\n",
        "<li><b>loss</b><p>c'est la fonction qui permet de mesurer le taux d'echec de notre modèle il est vitale et sert de paramètre d'orientation ici nous utilisons la fonction de l’erreur quadratique moyenne</p></li>\n",
        "<li><b>Metrics</b><p>sert à calculer la précision de notre modèle ici nous utilisons la precision simple</p></li>"
      ]
    },
    {
      "cell_type": "code",
      "metadata": {
        "id": "OYSBM4k5YTNT",
        "colab_type": "code",
        "colab": {}
      },
      "source": [
        "notre_model.compile(optimizer='adam', loss='mean_squared_error', metrics=['accuracy'])"
      ],
      "execution_count": 0,
      "outputs": []
    },
    {
      "cell_type": "markdown",
      "metadata": {
        "id": "G05OwSTvanb3",
        "colab_type": "text"
      },
      "source": [
        "<h2>phase d'entrainement</h2>\n",
        "<p>nous allons entrainer notre modéle dans ce qui suit pour se faire nous devons gérer deux facteurs</p>\n",
        "<li><b>Batch size</b> <p>nous permet de préciser le nombre d'ittérations à accomplir avant de mettre à jour les poids des différentes entrée de chaque neuronne</p></li>\n",
        "<li><b>Epoc</b><p>nous permet de préciser el nombre d'itteration que nous allons faire subir à notre model</p></li>"
      ]
    },
    {
      "cell_type": "code",
      "metadata": {
        "id": "LRMZr1TFauB0",
        "colab_type": "code",
        "outputId": "af62dc80-5073-4a69-a4fc-5326b2d11246",
        "colab": {
          "base_uri": "https://localhost:8080/",
          "height": 3394
        }
      },
      "source": [
        "notre_model.fit(X_train, Y_train, batch_size = 2, epochs = 100)"
      ],
      "execution_count": 0,
      "outputs": [
        {
          "output_type": "stream",
          "text": [
            "Epoch 1/100\n",
            "559/559 [==============================] - 1s 2ms/step - loss: 0.0898 - acc: 0.8998\n",
            "Epoch 2/100\n",
            "559/559 [==============================] - 0s 597us/step - loss: 0.0242 - acc: 0.9678\n",
            "Epoch 3/100\n",
            "559/559 [==============================] - 0s 683us/step - loss: 0.0218 - acc: 0.9714\n",
            "Epoch 4/100\n",
            "559/559 [==============================] - 0s 637us/step - loss: 0.0206 - acc: 0.9714\n",
            "Epoch 5/100\n",
            "559/559 [==============================] - 0s 574us/step - loss: 0.0198 - acc: 0.9732\n",
            "Epoch 6/100\n",
            "559/559 [==============================] - 0s 573us/step - loss: 0.0189 - acc: 0.9767\n",
            "Epoch 7/100\n",
            "559/559 [==============================] - 0s 573us/step - loss: 0.0184 - acc: 0.9750\n",
            "Epoch 8/100\n",
            "559/559 [==============================] - 0s 568us/step - loss: 0.0177 - acc: 0.9785\n",
            "Epoch 9/100\n",
            "559/559 [==============================] - 0s 576us/step - loss: 0.0169 - acc: 0.9785\n",
            "Epoch 10/100\n",
            "559/559 [==============================] - 0s 580us/step - loss: 0.0167 - acc: 0.9803\n",
            "Epoch 11/100\n",
            "559/559 [==============================] - 0s 574us/step - loss: 0.0164 - acc: 0.9785\n",
            "Epoch 12/100\n",
            "559/559 [==============================] - 0s 571us/step - loss: 0.0158 - acc: 0.9839\n",
            "Epoch 13/100\n",
            "559/559 [==============================] - 0s 572us/step - loss: 0.0157 - acc: 0.9821\n",
            "Epoch 14/100\n",
            "559/559 [==============================] - 0s 591us/step - loss: 0.0153 - acc: 0.9839\n",
            "Epoch 15/100\n",
            "559/559 [==============================] - 0s 578us/step - loss: 0.0147 - acc: 0.9839\n",
            "Epoch 16/100\n",
            "559/559 [==============================] - 0s 571us/step - loss: 0.0147 - acc: 0.9839\n",
            "Epoch 17/100\n",
            "559/559 [==============================] - 0s 575us/step - loss: 0.0144 - acc: 0.9839\n",
            "Epoch 18/100\n",
            "559/559 [==============================] - 0s 580us/step - loss: 0.0137 - acc: 0.9857\n",
            "Epoch 19/100\n",
            "559/559 [==============================] - 0s 571us/step - loss: 0.0134 - acc: 0.9839\n",
            "Epoch 20/100\n",
            "559/559 [==============================] - 0s 583us/step - loss: 0.0134 - acc: 0.9839\n",
            "Epoch 21/100\n",
            "559/559 [==============================] - 0s 579us/step - loss: 0.0135 - acc: 0.9857\n",
            "Epoch 22/100\n",
            "559/559 [==============================] - 0s 575us/step - loss: 0.0129 - acc: 0.9857\n",
            "Epoch 23/100\n",
            "559/559 [==============================] - 0s 572us/step - loss: 0.0129 - acc: 0.9839\n",
            "Epoch 24/100\n",
            "559/559 [==============================] - 0s 569us/step - loss: 0.0121 - acc: 0.9875\n",
            "Epoch 25/100\n",
            "559/559 [==============================] - 0s 573us/step - loss: 0.0119 - acc: 0.9893\n",
            "Epoch 26/100\n",
            "559/559 [==============================] - 0s 580us/step - loss: 0.0118 - acc: 0.9875\n",
            "Epoch 27/100\n",
            "559/559 [==============================] - 0s 577us/step - loss: 0.0116 - acc: 0.9875\n",
            "Epoch 28/100\n",
            "559/559 [==============================] - 0s 577us/step - loss: 0.0111 - acc: 0.9875\n",
            "Epoch 29/100\n",
            "559/559 [==============================] - 0s 570us/step - loss: 0.0107 - acc: 0.9875\n",
            "Epoch 30/100\n",
            "559/559 [==============================] - 0s 578us/step - loss: 0.0105 - acc: 0.9875\n",
            "Epoch 31/100\n",
            "559/559 [==============================] - 0s 567us/step - loss: 0.0104 - acc: 0.9875\n",
            "Epoch 32/100\n",
            "559/559 [==============================] - 0s 571us/step - loss: 0.0101 - acc: 0.9893\n",
            "Epoch 33/100\n",
            "559/559 [==============================] - 0s 580us/step - loss: 0.0099 - acc: 0.9875\n",
            "Epoch 34/100\n",
            "559/559 [==============================] - 0s 575us/step - loss: 0.0096 - acc: 0.9875\n",
            "Epoch 35/100\n",
            "559/559 [==============================] - 0s 575us/step - loss: 0.0094 - acc: 0.9857\n",
            "Epoch 36/100\n",
            "559/559 [==============================] - 0s 600us/step - loss: 0.0089 - acc: 0.9893\n",
            "Epoch 37/100\n",
            "559/559 [==============================] - 0s 578us/step - loss: 0.0085 - acc: 0.9875\n",
            "Epoch 38/100\n",
            "559/559 [==============================] - 0s 559us/step - loss: 0.0084 - acc: 0.9893\n",
            "Epoch 39/100\n",
            "559/559 [==============================] - 0s 580us/step - loss: 0.0078 - acc: 0.9911\n",
            "Epoch 40/100\n",
            "559/559 [==============================] - 0s 572us/step - loss: 0.0076 - acc: 0.9911\n",
            "Epoch 41/100\n",
            "559/559 [==============================] - 0s 572us/step - loss: 0.0075 - acc: 0.9893\n",
            "Epoch 42/100\n",
            "559/559 [==============================] - 0s 577us/step - loss: 0.0072 - acc: 0.9893\n",
            "Epoch 43/100\n",
            "559/559 [==============================] - 0s 576us/step - loss: 0.0068 - acc: 0.9946\n",
            "Epoch 44/100\n",
            "559/559 [==============================] - 0s 577us/step - loss: 0.0073 - acc: 0.9911\n",
            "Epoch 45/100\n",
            "559/559 [==============================] - 0s 577us/step - loss: 0.0061 - acc: 0.9946\n",
            "Epoch 46/100\n",
            "559/559 [==============================] - 0s 565us/step - loss: 0.0063 - acc: 0.9946\n",
            "Epoch 47/100\n",
            "559/559 [==============================] - 0s 573us/step - loss: 0.0060 - acc: 0.9946\n",
            "Epoch 48/100\n",
            "559/559 [==============================] - 0s 569us/step - loss: 0.0059 - acc: 0.9946\n",
            "Epoch 49/100\n",
            "559/559 [==============================] - 0s 573us/step - loss: 0.0054 - acc: 0.9964\n",
            "Epoch 50/100\n",
            "559/559 [==============================] - 0s 569us/step - loss: 0.0052 - acc: 0.9946\n",
            "Epoch 51/100\n",
            "559/559 [==============================] - 0s 571us/step - loss: 0.0057 - acc: 0.9946\n",
            "Epoch 52/100\n",
            "559/559 [==============================] - 0s 574us/step - loss: 0.0048 - acc: 0.9964\n",
            "Epoch 53/100\n",
            "559/559 [==============================] - 0s 569us/step - loss: 0.0050 - acc: 0.9946\n",
            "Epoch 54/100\n",
            "559/559 [==============================] - 0s 573us/step - loss: 0.0046 - acc: 0.9964\n",
            "Epoch 55/100\n",
            "559/559 [==============================] - 0s 580us/step - loss: 0.0044 - acc: 0.9964\n",
            "Epoch 56/100\n",
            "559/559 [==============================] - 0s 574us/step - loss: 0.0052 - acc: 0.9946\n",
            "Epoch 57/100\n",
            "559/559 [==============================] - 0s 575us/step - loss: 0.0050 - acc: 0.9928\n",
            "Epoch 58/100\n",
            "559/559 [==============================] - 0s 575us/step - loss: 0.0050 - acc: 0.9946\n",
            "Epoch 59/100\n",
            "559/559 [==============================] - 0s 573us/step - loss: 0.0048 - acc: 0.9964\n",
            "Epoch 60/100\n",
            "559/559 [==============================] - 0s 570us/step - loss: 0.0040 - acc: 0.9964\n",
            "Epoch 61/100\n",
            "559/559 [==============================] - 0s 578us/step - loss: 0.0041 - acc: 0.9964\n",
            "Epoch 62/100\n",
            "559/559 [==============================] - 0s 576us/step - loss: 0.0041 - acc: 0.9964\n",
            "Epoch 63/100\n",
            "559/559 [==============================] - 0s 575us/step - loss: 0.0040 - acc: 0.9964\n",
            "Epoch 64/100\n",
            "559/559 [==============================] - 0s 586us/step - loss: 0.0039 - acc: 0.9964\n",
            "Epoch 65/100\n",
            "559/559 [==============================] - 0s 568us/step - loss: 0.0039 - acc: 0.9964\n",
            "Epoch 66/100\n",
            "559/559 [==============================] - 0s 574us/step - loss: 0.0039 - acc: 0.9964\n",
            "Epoch 67/100\n",
            "559/559 [==============================] - 0s 586us/step - loss: 0.0039 - acc: 0.9964\n",
            "Epoch 68/100\n",
            "559/559 [==============================] - 0s 593us/step - loss: 0.0038 - acc: 0.9964\n",
            "Epoch 69/100\n",
            "559/559 [==============================] - 0s 583us/step - loss: 0.0039 - acc: 0.9964\n",
            "Epoch 70/100\n",
            "559/559 [==============================] - 0s 576us/step - loss: 0.0038 - acc: 0.9964\n",
            "Epoch 71/100\n",
            "559/559 [==============================] - 0s 576us/step - loss: 0.0037 - acc: 0.9964\n",
            "Epoch 72/100\n",
            "559/559 [==============================] - 0s 580us/step - loss: 0.0037 - acc: 0.9964\n",
            "Epoch 73/100\n",
            "559/559 [==============================] - 0s 578us/step - loss: 0.0037 - acc: 0.9964\n",
            "Epoch 74/100\n",
            "559/559 [==============================] - 0s 569us/step - loss: 0.0037 - acc: 0.9964\n",
            "Epoch 75/100\n",
            "559/559 [==============================] - 0s 575us/step - loss: 0.0039 - acc: 0.9964\n",
            "Epoch 76/100\n",
            "559/559 [==============================] - 0s 577us/step - loss: 0.0041 - acc: 0.9964\n",
            "Epoch 77/100\n",
            "559/559 [==============================] - 0s 575us/step - loss: 0.0038 - acc: 0.9964\n",
            "Epoch 78/100\n",
            "559/559 [==============================] - 0s 573us/step - loss: 0.0036 - acc: 0.9964\n",
            "Epoch 79/100\n",
            "559/559 [==============================] - 0s 571us/step - loss: 0.0036 - acc: 0.9964\n",
            "Epoch 80/100\n",
            "559/559 [==============================] - 0s 570us/step - loss: 0.0036 - acc: 0.9964\n",
            "Epoch 81/100\n",
            "559/559 [==============================] - 0s 572us/step - loss: 0.0036 - acc: 0.9964\n",
            "Epoch 82/100\n",
            "559/559 [==============================] - 0s 576us/step - loss: 0.0036 - acc: 0.9964\n",
            "Epoch 83/100\n",
            "559/559 [==============================] - 0s 581us/step - loss: 0.0036 - acc: 0.9964\n",
            "Epoch 84/100\n",
            "559/559 [==============================] - 0s 573us/step - loss: 0.0036 - acc: 0.9964\n",
            "Epoch 85/100\n",
            "559/559 [==============================] - 0s 576us/step - loss: 0.0036 - acc: 0.9964\n",
            "Epoch 86/100\n",
            "559/559 [==============================] - 0s 569us/step - loss: 0.0036 - acc: 0.9964\n",
            "Epoch 87/100\n",
            "559/559 [==============================] - 0s 571us/step - loss: 0.0036 - acc: 0.9964\n",
            "Epoch 88/100\n",
            "559/559 [==============================] - 0s 571us/step - loss: 0.0036 - acc: 0.9964\n",
            "Epoch 89/100\n",
            "559/559 [==============================] - 0s 572us/step - loss: 0.0036 - acc: 0.9964\n",
            "Epoch 90/100\n",
            "559/559 [==============================] - 0s 567us/step - loss: 0.0036 - acc: 0.9964\n",
            "Epoch 91/100\n",
            "559/559 [==============================] - 0s 564us/step - loss: 0.0040 - acc: 0.9964\n",
            "Epoch 92/100\n",
            "559/559 [==============================] - 0s 570us/step - loss: 0.0045 - acc: 0.9946\n",
            "Epoch 93/100\n",
            "559/559 [==============================] - 0s 569us/step - loss: 0.0036 - acc: 0.9964\n",
            "Epoch 94/100\n",
            "559/559 [==============================] - 0s 583us/step - loss: 0.0036 - acc: 0.9964\n",
            "Epoch 95/100\n",
            "559/559 [==============================] - 0s 574us/step - loss: 0.0036 - acc: 0.9964\n",
            "Epoch 96/100\n",
            "559/559 [==============================] - 0s 559us/step - loss: 0.0036 - acc: 0.9964\n",
            "Epoch 97/100\n",
            "559/559 [==============================] - 0s 573us/step - loss: 0.0036 - acc: 0.9964\n",
            "Epoch 98/100\n",
            "559/559 [==============================] - 0s 574us/step - loss: 0.0036 - acc: 0.9964\n",
            "Epoch 99/100\n",
            "559/559 [==============================] - 0s 571us/step - loss: 0.0036 - acc: 0.9964\n",
            "Epoch 100/100\n",
            "559/559 [==============================] - 0s 602us/step - loss: 0.0036 - acc: 0.9964\n"
          ],
          "name": "stdout"
        },
        {
          "output_type": "execute_result",
          "data": {
            "text/plain": [
              "<keras.callbacks.History at 0x7fe7b671ec88>"
            ]
          },
          "metadata": {
            "tags": []
          },
          "execution_count": 63
        }
      ]
    },
    {
      "cell_type": "markdown",
      "metadata": {
        "id": "4gNhieT5daTk",
        "colab_type": "text"
      },
      "source": [
        "<h2>Phase de test</h2>\n",
        "<p>Dans ce qui suit nus allons tester le model apres sa phase d'entrainement</p>\n",
        "<p>pour se faire nous aurons recourt au données laissées pour de coté pour les test</p>"
      ]
    },
    {
      "cell_type": "code",
      "metadata": {
        "id": "k9C-z4o7d6vq",
        "colab_type": "code",
        "outputId": "3c0251b3-6f00-4caa-ea0f-d07fc876b835",
        "colab": {
          "base_uri": "https://localhost:8080/",
          "height": 54
        }
      },
      "source": [
        "Y_pred = notre_model.predict(X_test)\n",
        "Y_pred = [ 1 if y>=0.5 else 0 for y in Y_pred]\n",
        "print(Y_pred)"
      ],
      "execution_count": 0,
      "outputs": [
        {
          "output_type": "stream",
          "text": [
            "[0, 0, 1, 0, 1, 0, 1, 0, 1, 1, 0, 0, 1, 1, 1, 0, 0, 1, 1, 0, 1, 1, 0, 0, 1, 1, 0, 0, 1, 1, 0, 0, 0, 0, 0, 0, 0, 1, 0, 0, 0, 0, 0, 0, 1, 1, 0, 1, 0, 1, 1, 0, 0, 1, 0, 0, 0, 0, 0, 0, 1, 0, 0, 1, 1, 1, 1, 0, 0, 1, 0, 0, 1, 1, 0, 0, 0, 0, 1, 0, 0, 0, 1, 0, 0, 0, 1, 0, 1, 1, 0, 0, 0, 1, 0, 0, 0, 1, 0, 1, 1, 0, 0, 0, 1, 0, 0, 0, 0, 0, 1, 1, 1, 0, 0, 0, 0, 0, 1, 1, 1, 1, 0, 1, 0, 0, 1, 1, 1, 1, 1, 0, 0, 1, 1, 0, 0, 1, 0, 0]\n"
          ],
          "name": "stdout"
        }
      ]
    },
    {
      "cell_type": "markdown",
      "metadata": {
        "id": "8GMFLvzmeOnq",
        "colab_type": "text"
      },
      "source": [
        "<H2>Phase de validation</H2>\n",
        "<p>nous allons desormais comparer les résultats de notre model aux valeurs réel afin d'établir sa fiabilité pour se faire nous allons calculer une matrice de confusion nous permettant de mettre en évidance les Vrais positifs , les faux postifs , les vrais negatifs et les faux negatifs</p>"
      ]
    },
    {
      "cell_type": "code",
      "metadata": {
        "id": "4hQ0xY3HeeWL",
        "colab_type": "code",
        "outputId": "90578234-3c75-4620-b0e7-948b7b6d0f20",
        "colab": {
          "base_uri": "https://localhost:8080/",
          "height": 50
        }
      },
      "source": [
        "from sklearn.metrics import confusion_matrix\n",
        "cm = confusion_matrix(Y_test, Y_pred)\n",
        "print(cm)"
      ],
      "execution_count": 0,
      "outputs": [
        {
          "output_type": "stream",
          "text": [
            "[[82  3]\n",
            " [ 1 54]]\n"
          ],
          "name": "stdout"
        }
      ]
    },
    {
      "cell_type": "code",
      "metadata": {
        "id": "Wm4UeLMRfVaQ",
        "colab_type": "code",
        "outputId": "2704395b-dfa7-40b0-8e71-70c391db47b0",
        "colab": {
          "base_uri": "https://localhost:8080/",
          "height": 34
        }
      },
      "source": [
        "nb_tuples = X_test.size/9\n",
        "precision = (81+53)/nb_tuples\n",
        "\n",
        "\n",
        "print(precision )"
      ],
      "execution_count": 0,
      "outputs": [
        {
          "output_type": "stream",
          "text": [
            "0.9571428571428572\n"
          ],
          "name": "stdout"
        }
      ]
    }
  ]
}